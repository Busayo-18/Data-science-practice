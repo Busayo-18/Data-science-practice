{
  "cells": [
    {
      "cell_type": "markdown",
      "metadata": {
        "id": "1Ms5kWiSwfSV"
      },
      "source": [
        "Problem 1: Create a 1D Numpy array of numbers from 0 to 20"
      ]
    },
    {
      "cell_type": "code",
      "execution_count": 2,
      "metadata": {
        "id": "yHXT4Z5twHk-"
      },
      "outputs": [],
      "source": [
        "import numpy as np"
      ]
    },
    {
      "cell_type": "code",
      "execution_count": null,
      "metadata": {
        "colab": {
          "base_uri": "https://localhost:8080/"
        },
        "id": "A3_e5uEg1c7N",
        "outputId": "23007257-b94a-4a8d-be81-2e1619795895"
      },
      "outputs": [
        {
          "name": "stdout",
          "output_type": "stream",
          "text": [
            "[ 0  1  2  3  4  5  6  7  8  9 10 11 12 13 14 15 16 17 18 19 20]\n"
          ]
        }
      ],
      "source": [
        "numbers= np.array(range(0,21))\n",
        "print(numbers)"
      ]
    },
    {
      "cell_type": "markdown",
      "metadata": {
        "id": "WN6Q6ad4BEC-"
      },
      "source": [
        "Problem 2: Create a 3x3 identity matrix"
      ]
    },
    {
      "cell_type": "code",
      "execution_count": null,
      "metadata": {
        "colab": {
          "base_uri": "https://localhost:8080/"
        },
        "id": "DzcYUSyo1n4V",
        "outputId": "97a0decd-af37-4804-dcec-6796c9ad6793"
      },
      "outputs": [
        {
          "name": "stdout",
          "output_type": "stream",
          "text": [
            "[[1. 0. 0.]\n",
            " [0. 1. 0.]\n",
            " [0. 0. 1.]]\n"
          ]
        }
      ],
      "source": [
        "x = np.eye(3)\n",
        "print(x)"
      ]
    },
    {
      "cell_type": "markdown",
      "metadata": {
        "id": "VnryqotDBRsb"
      },
      "source": [
        "Problem 3: Create a 2x2 matric and perform addition,subtraction and multiplication"
      ]
    },
    {
      "cell_type": "code",
      "execution_count": null,
      "metadata": {
        "colab": {
          "base_uri": "https://localhost:8080/"
        },
        "id": "oVQcedQQBN0c",
        "outputId": "2d715814-f04e-4410-f6ac-7b0b098bf2ae"
      },
      "outputs": [
        {
          "name": "stdout",
          "output_type": "stream",
          "text": [
            "[[9 5]\n",
            " [7 8]]\n",
            "[[9 8]\n",
            " [9 7]]\n"
          ]
        }
      ],
      "source": [
        "x = np.random.randint(2,10,(2,2))\n",
        "y = np.random.randint(2,10,(2,2))\n",
        "print(x)\n",
        "print(y)"
      ]
    },
    {
      "cell_type": "code",
      "execution_count": null,
      "metadata": {
        "colab": {
          "base_uri": "https://localhost:8080/"
        },
        "id": "swrfWZeFuigx",
        "outputId": "12421552-2f52-478b-9e3a-379b42d2ff4b"
      },
      "outputs": [
        {
          "name": "stdout",
          "output_type": "stream",
          "text": [
            "[[18 13]\n",
            " [16 15]]\n",
            "[[ 0 -3]\n",
            " [-2  1]]\n",
            "[[81 40]\n",
            " [63 56]]\n"
          ]
        }
      ],
      "source": [
        "addition = x+y\n",
        "Subtraction = x-y\n",
        "multiplication = x*y\n",
        "print(addition)\n",
        "print(Subtraction)\n",
        "print(multiplication)"
      ]
    },
    {
      "cell_type": "code",
      "execution_count": null,
      "metadata": {
        "colab": {
          "base_uri": "https://localhost:8080/"
        },
        "id": "_z56NBO-w0BF",
        "outputId": "9c05d826-d079-4529-ad3a-870668a88201"
      },
      "outputs": [
        {
          "name": "stdout",
          "output_type": "stream",
          "text": [
            "[[9 7]\n",
            " [5 8]]\n"
          ]
        }
      ],
      "source": [
        "transpose = x.T\n",
        "print(transpose)\n"
      ]
    },
    {
      "cell_type": "markdown",
      "metadata": {
        "id": "C1cXrWG_xTFz"
      },
      "source": [
        "Problem 4: Create a numpy array of 20 random integers from 1-100, find the mean , median and standard deviation\n"
      ]
    },
    {
      "cell_type": "code",
      "execution_count": null,
      "metadata": {
        "colab": {
          "base_uri": "https://localhost:8080/"
        },
        "id": "pmNp57z0xAoA",
        "outputId": "893c565e-fa23-4560-9348-2a98bbce109c"
      },
      "outputs": [
        {
          "name": "stdout",
          "output_type": "stream",
          "text": [
            "[55 64 69 75  3  2 47 42  6 63 48 88 78 78 59 90 85 43 46 44]\n"
          ]
        }
      ],
      "source": [
        "array = np.random.randint(1,100,20)\n",
        "print(array)"
      ]
    },
    {
      "cell_type": "code",
      "execution_count": null,
      "metadata": {
        "colab": {
          "base_uri": "https://localhost:8080/"
        },
        "id": "DSGsOgxwx5hJ",
        "outputId": "f7171a7b-621e-4c47-a468-f13b0814b14f"
      },
      "outputs": [
        {
          "name": "stdout",
          "output_type": "stream",
          "text": [
            "mean: 54.25\n",
            "median: 57.0\n",
            "standard deviation: 26.038193101672782\n"
          ]
        }
      ],
      "source": [
        "array_mean = np.mean(array)\n",
        "array_median = np.median(array)\n",
        "array_std = np.std(array)\n",
        "print(\"mean:\",array_mean)\n",
        "print(\"median:\",array_median)\n",
        "print(\"standard deviation:\",array_std)\n"
      ]
    },
    {
      "cell_type": "markdown",
      "metadata": {
        "id": "-ul3epnU0cHi"
      },
      "source": [
        "Problem 5: Reshape a 1D array of size 12 into  3x4"
      ]
    },
    {
      "cell_type": "code",
      "execution_count": null,
      "metadata": {
        "colab": {
          "base_uri": "https://localhost:8080/"
        },
        "id": "KqZSfphyzlXx",
        "outputId": "8ac1e138-5ccf-404c-9da1-e1061b8e730b"
      },
      "outputs": [
        {
          "output_type": "stream",
          "name": "stdout",
          "text": [
            "[ 5  3 13  7 15 17  8  8 13  5  6  8]\n",
            "12\n"
          ]
        }
      ],
      "source": [
        "one_dimension= np.random.randint(1,20,12)\n",
        "print(one_dimension)\n",
        "print(one_dimension.size)\n"
      ]
    },
    {
      "cell_type": "code",
      "source": [
        "new_array = one_dimension.reshape(3,4)\n",
        "print(new_array)\n",
        "print(new_array.shape)"
      ],
      "metadata": {
        "colab": {
          "base_uri": "https://localhost:8080/"
        },
        "id": "YFEIZKQW1hLP",
        "outputId": "24b6304c-e91e-47e4-e9c5-7566d8c04249"
      },
      "execution_count": null,
      "outputs": [
        {
          "output_type": "stream",
          "name": "stdout",
          "text": [
            "[[ 5  3 13  7]\n",
            " [15 17  8  8]\n",
            " [13  5  6  8]]\n",
            "(3, 4)\n"
          ]
        }
      ]
    },
    {
      "cell_type": "markdown",
      "source": [
        "Problem 6: Extract all even numbers from a numpy array"
      ],
      "metadata": {
        "id": "AaityzPr2I80"
      }
    },
    {
      "cell_type": "code",
      "source": [
        "x=np.random.randint(1,20,10)\n",
        "print(\"Original array:\", x)\n",
        "even_numbers = x[x % 2 == 0]\n",
        "print(\"Even numbers:\", even_numbers)"
      ],
      "metadata": {
        "colab": {
          "base_uri": "https://localhost:8080/"
        },
        "id": "jO7iCpXz114V",
        "outputId": "8379ef4c-cf96-4363-e5d8-22ef11a9be17"
      },
      "execution_count": null,
      "outputs": [
        {
          "output_type": "stream",
          "name": "stdout",
          "text": [
            "Original array: [17 12 19  6 18 14  9 12 12 10]\n",
            "Even numbers: [12  6 18 14 12 12 10]\n"
          ]
        }
      ]
    },
    {
      "cell_type": "markdown",
      "source": [
        "Problem 7: Create a 5x5 matrix with values 1 to 25 and slice the middle 3x3 submatrix"
      ],
      "metadata": {
        "id": "K6qjAc_T36C6"
      }
    },
    {
      "cell_type": "code",
      "source": [
        "matrix_5x5 = np.random.randint(1,26,(5,5))\n",
        "print(matrix_5x5)"
      ],
      "metadata": {
        "id": "DDVo3JK-2bnA",
        "colab": {
          "base_uri": "https://localhost:8080/"
        },
        "outputId": "9dab0a03-a151-4eb1-ec73-06ee8ca50ec2"
      },
      "execution_count": null,
      "outputs": [
        {
          "output_type": "stream",
          "name": "stdout",
          "text": [
            "[[ 6 11  1  3 20]\n",
            " [14 24  9  9 20]\n",
            " [ 4 12 25 18  6]\n",
            " [14 15  2  6 17]\n",
            " [24  6 17 17  7]]\n"
          ]
        }
      ]
    },
    {
      "cell_type": "code",
      "source": [
        "submatrix_3x3 = matrix_5x5[1:4,1:4]\n",
        "print(submatrix_3x3)"
      ],
      "metadata": {
        "colab": {
          "base_uri": "https://localhost:8080/"
        },
        "id": "MZs8UpcZ9gyz",
        "outputId": "a3b5ce9a-00ec-467a-a1cb-949f4353f821"
      },
      "execution_count": null,
      "outputs": [
        {
          "output_type": "stream",
          "name": "stdout",
          "text": [
            "[[24  9  9]\n",
            " [12 25 18]\n",
            " [15  2  6]]\n"
          ]
        }
      ]
    },
    {
      "cell_type": "markdown",
      "source": [
        "Problem 8: Simulate 1000 coin flips(0=head, 1=tail) find probabilty of head"
      ],
      "metadata": {
        "id": "-mqPqHQ79996"
      }
    },
    {
      "cell_type": "code",
      "source": [
        "coin_flips = np.random.randint(0,2,1000)\n",
        "print(coin_flips)\n",
        "head_count = np.sum(coin_flips == 0)\n",
        "prob_head = head_count/1000\n",
        "print(\"Number of heads:\",head_count)\n",
        "print(\"Probability of head:\",round(prob_head,1))"
      ],
      "metadata": {
        "colab": {
          "base_uri": "https://localhost:8080/"
        },
        "id": "byYYLee295Pp",
        "outputId": "3a7b587a-c884-48f0-85d9-b8c453f9cb0d"
      },
      "execution_count": null,
      "outputs": [
        {
          "output_type": "stream",
          "name": "stdout",
          "text": [
            "[1 1 1 1 0 0 1 1 1 0 0 0 0 0 1 1 1 0 0 0 0 0 0 0 1 0 0 0 1 0 1 0 1 0 1 1 1\n",
            " 1 0 0 1 0 1 1 1 1 1 1 0 0 0 1 0 0 1 1 0 1 1 1 0 0 0 1 0 1 1 1 1 1 0 0 1 0\n",
            " 1 1 1 1 0 0 0 0 1 1 1 1 1 1 1 1 0 1 1 1 0 1 1 0 0 1 0 0 1 1 1 1 1 1 0 1 1\n",
            " 1 0 1 1 0 1 0 1 0 1 0 0 0 1 1 0 1 0 0 1 0 1 1 0 0 0 0 0 1 0 1 0 1 1 1 0 0\n",
            " 0 1 0 0 0 0 0 1 0 0 1 0 0 0 0 1 0 1 1 0 1 0 0 0 1 0 0 0 0 0 0 1 0 1 0 1 1\n",
            " 0 0 0 1 1 1 0 0 1 1 1 0 0 1 1 1 0 0 0 0 0 1 1 1 1 0 1 1 0 1 1 0 0 0 1 1 0\n",
            " 1 1 1 0 1 0 1 0 0 1 1 1 0 0 1 0 0 0 1 1 0 0 0 0 1 0 0 0 1 0 1 0 1 1 0 0 0\n",
            " 0 1 1 0 1 0 1 0 0 0 1 0 0 0 1 1 0 0 1 0 1 1 1 0 1 0 1 1 1 0 0 0 0 0 1 1 0\n",
            " 0 1 0 1 0 0 1 1 0 1 0 1 1 1 1 0 1 1 0 1 1 1 0 0 1 0 0 0 1 1 0 0 1 1 0 0 1\n",
            " 1 0 1 0 0 1 1 1 0 0 0 0 1 0 1 1 0 1 1 1 1 0 0 0 1 1 0 1 0 1 1 1 1 1 1 1 1\n",
            " 0 0 1 0 0 1 0 0 0 1 0 0 1 1 1 1 0 1 0 1 1 1 0 1 1 0 0 1 0 1 1 0 0 0 0 0 0\n",
            " 0 0 1 1 0 0 0 0 0 1 1 1 1 1 0 0 1 1 1 1 1 0 1 0 1 0 0 0 0 0 1 0 0 0 1 1 1\n",
            " 0 0 1 0 1 0 1 0 0 0 0 1 0 1 1 0 0 0 1 0 0 1 0 1 0 0 0 0 0 0 1 0 0 0 0 0 0\n",
            " 0 1 1 1 1 1 1 0 1 0 1 1 0 0 1 0 0 1 0 1 0 1 1 1 0 1 1 1 0 1 0 0 1 0 1 0 0\n",
            " 0 1 1 0 0 0 0 0 0 0 1 0 1 1 1 1 1 0 1 1 1 0 0 1 0 0 0 1 1 0 1 0 1 0 1 1 1\n",
            " 1 0 0 0 1 1 1 0 0 1 1 1 0 0 1 1 1 0 1 0 1 1 1 0 0 0 0 0 0 1 0 1 1 0 1 0 1\n",
            " 0 1 1 1 0 1 0 1 1 0 1 0 1 1 0 0 0 1 1 1 1 1 0 1 0 1 0 1 1 0 1 0 0 0 1 1 0\n",
            " 0 0 0 1 0 0 0 0 0 1 1 0 1 0 0 1 0 1 0 0 0 1 1 1 0 1 0 1 0 0 0 1 0 1 1 0 1\n",
            " 0 1 1 1 1 1 0 0 0 0 1 0 0 0 0 1 0 1 1 0 0 0 0 0 0 0 0 1 0 0 0 1 1 0 0 1 0\n",
            " 1 0 1 1 0 1 0 0 1 0 0 1 1 0 1 1 0 0 1 0 1 0 0 0 1 1 0 0 1 1 1 0 1 1 0 1 1\n",
            " 0 1 1 1 1 1 1 0 0 1 0 0 0 0 0 1 0 0 0 0 1 1 1 1 0 0 1 0 1 1 1 0 1 1 0 0 0\n",
            " 0 1 0 1 0 0 1 1 1 0 0 1 0 0 0 0 1 1 0 0 1 1 0 0 0 1 1 0 1 1 0 1 0 0 0 1 1\n",
            " 0 0 1 0 0 1 1 0 1 1 0 0 0 0 1 1 0 0 0 0 1 1 1 1 1 0 0 1 0 1 1 1 0 1 1 1 0\n",
            " 0 1 0 0 1 1 1 0 0 0 0 1 1 1 0 1 0 1 0 1 1 1 1 0 1 1 0 0 0 1 1 1 1 0 0 0 0\n",
            " 1 1 0 1 0 1 1 0 1 0 1 0 1 0 1 1 0 1 1 1 1 1 0 1 1 1 0 1 1 1 0 0 0 0 1 0 1\n",
            " 0 1 1 0 1 0 0 0 1 1 0 1 1 1 1 1 0 0 1 0 1 0 1 0 1 1 0 1 1 1 1 0 0 1 1 0 1\n",
            " 0 1 1 0 1 1 0 1 1 0 0 1 0 1 1 0 1 0 0 1 1 1 1 1 1 1 0 1 0 0 1 1 1 1 0 1 0\n",
            " 1]\n",
            "Number of heads: 498\n",
            "Probability of head: 0.5\n"
          ]
        }
      ]
    },
    {
      "cell_type": "markdown",
      "source": [
        "Problem 9: Solve a system of linear equations using np.linalg.solve()"
      ],
      "metadata": {
        "id": "tsOG8_EWAzFB"
      }
    },
    {
      "cell_type": "code",
      "source": [
        "#EXAMPLE 1\n",
        "A = np.array([[3, 2], [1, -4]])\n",
        "b = np.array([12, -2])\n",
        "print(A)\n",
        "print(b)"
      ],
      "metadata": {
        "colab": {
          "base_uri": "https://localhost:8080/"
        },
        "id": "OLWFcPPZ_Gri",
        "outputId": "a3694dc1-524d-4893-f0af-28382300cdce"
      },
      "execution_count": null,
      "outputs": [
        {
          "output_type": "stream",
          "name": "stdout",
          "text": [
            "[[ 3  2]\n",
            " [ 1 -4]]\n",
            "[12 -2]\n"
          ]
        }
      ]
    },
    {
      "cell_type": "code",
      "source": [
        "solution = np.linalg.solve(A, b)\n",
        "\n",
        "# Print the solution\n",
        "print(\"Solution:\", solution)"
      ],
      "metadata": {
        "colab": {
          "base_uri": "https://localhost:8080/"
        },
        "id": "miitBHA0Bl2Y",
        "outputId": "f08b4b7f-6ab0-452e-c90b-ebcf4d779cc3"
      },
      "execution_count": null,
      "outputs": [
        {
          "output_type": "stream",
          "name": "stdout",
          "text": [
            "Solution: [3.14285714 1.28571429]\n"
          ]
        }
      ]
    },
    {
      "cell_type": "code",
      "source": [
        "#Example 2\n",
        "A = np.array([[1,2,3], [2,-1,1],[3,1,-1]])\n",
        "b = np.array([14, 3,5])\n",
        "print(A)\n",
        "print(b)"
      ],
      "metadata": {
        "colab": {
          "base_uri": "https://localhost:8080/"
        },
        "id": "B2oIIGW9CqrH",
        "outputId": "8d5203e8-4987-4e32-813b-4fe6f8546e41"
      },
      "execution_count": null,
      "outputs": [
        {
          "output_type": "stream",
          "name": "stdout",
          "text": [
            "[[ 1  2  3]\n",
            " [ 2 -1  1]\n",
            " [ 3  1 -1]]\n",
            "[14  3  5]\n"
          ]
        }
      ]
    },
    {
      "cell_type": "code",
      "source": [
        "solution = np.linalg.solve(A, b)\n",
        "\n",
        "# Print the solution\n",
        "print(\"Solution:\", solution)"
      ],
      "metadata": {
        "id": "f1v4jeKCDEYM",
        "outputId": "3cd2848a-888d-4eaf-c016-847c9f8d6924",
        "colab": {
          "base_uri": "https://localhost:8080/"
        }
      },
      "execution_count": null,
      "outputs": [
        {
          "output_type": "stream",
          "name": "stdout",
          "text": [
            "Solution: [1.6 2.6 2.4]\n"
          ]
        }
      ]
    },
    {
      "cell_type": "markdown",
      "source": [
        "Problem 10: Normalize a numpy array so all values are between 0 and 1"
      ],
      "metadata": {
        "id": "-AXLqTiGDoZA"
      }
    },
    {
      "cell_type": "code",
      "source": [
        "\"\"\"creating a numpy array\"\"\"\n",
        "array = np.random.randint(1,20,10)\n",
        "print(array)\n",
        "\"\"\"normalizing the array using the formula\"\"\"\n",
        "normalized_array = (array - array.min()) / (array.max() - array.min())\n",
        "print(new_array)\n"
      ],
      "metadata": {
        "colab": {
          "base_uri": "https://localhost:8080/"
        },
        "id": "BU-60ywSDeQE",
        "outputId": "8ebb8822-f309-4448-a00c-893075147ba3"
      },
      "execution_count": 7,
      "outputs": [
        {
          "output_type": "stream",
          "name": "stdout",
          "text": [
            "[ 8 10  1  1  2  5  7  8  1  9]\n",
            "[0.11111111 0.98888889 0.         0.78888889 0.07777778 0.43333333\n",
            " 0.18888889 1.         0.04444444 0.24444444]\n"
          ]
        }
      ]
    },
    {
      "cell_type": "code",
      "source": [],
      "metadata": {
        "id": "NpOQGjmailzO"
      },
      "execution_count": 3,
      "outputs": []
    }
  ],
  "metadata": {
    "colab": {
      "provenance": []
    },
    "kernelspec": {
      "display_name": "Python 3",
      "name": "python3"
    },
    "language_info": {
      "name": "python"
    }
  },
  "nbformat": 4,
  "nbformat_minor": 0
}