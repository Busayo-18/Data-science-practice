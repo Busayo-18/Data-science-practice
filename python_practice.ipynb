{
  "cells": [
    {
      "cell_type": "markdown",
      "metadata": {
        "id": "view-in-github",
        "colab_type": "text"
      },
      "source": [
        "<a href=\"https://colab.research.google.com/github/Busayo-18/Data-science-practice/blob/main/python_practice.ipynb\" target=\"_parent\"><img src=\"https://colab.research.google.com/assets/colab-badge.svg\" alt=\"Open In Colab\"/></a>"
      ]
    },
    {
      "cell_type": "markdown",
      "metadata": {
        "id": "pMXVHPH5HtZF"
      },
      "source": [
        "Problem 1: A python program checking if a number is prime"
      ]
    },
    {
      "cell_type": "code",
      "execution_count": null,
      "metadata": {
        "colab": {
          "base_uri": "https://localhost:8080/"
        },
        "id": "ZZ9DpnxgHC3k",
        "outputId": "dd9972b4-4d75-4a99-e8b0-4b052610b67d"
      },
      "outputs": [
        {
          "name": "stdout",
          "output_type": "stream",
          "text": [
            "Enter a number: 89\n",
            "89 is a prime number\n"
          ]
        }
      ],
      "source": [
        "x= int(input(\"Enter a number: \"))\n",
        "if x<2: #prime numbers must have two divisors hence why it start from 2 upwards\n",
        "  is_prime = True\n",
        "elif x>2:\n",
        "  for i in range(2,int(x**0.5)+1): #iterates across a range from 2 to its square root, +1 includes the last number in the range\n",
        "    if x % i == 0: #the remainder\n",
        "      is_prime = False\n",
        "      break #stops the iteration if false\n",
        "    else:\n",
        "      is_prime = True\n",
        "      break\n",
        "\n",
        "if is_prime:\n",
        "  print(x ,\"is a prime number\")\n",
        "else:\n",
        "  print(x, \"is not a prime number\")\n",
        "\n",
        "\n"
      ]
    },
    {
      "cell_type": "markdown",
      "metadata": {
        "id": "dNW-huCYUBzu"
      },
      "source": [
        "Problem 2: creating a function that takes list of numbers and returns the maximum, minimum and average"
      ]
    },
    {
      "cell_type": "code",
      "execution_count": null,
      "metadata": {
        "colab": {
          "base_uri": "https://localhost:8080/"
        },
        "id": "A5eUv8imNWtR",
        "outputId": "942261fb-dd48-4d7d-8cfb-9e57888ca03a"
      },
      "outputs": [
        {
          "name": "stdout",
          "output_type": "stream",
          "text": [
            "The maximum number: 12\n",
            "The minimum number: 2\n",
            "The average number: 6.666666666666667\n"
          ]
        }
      ],
      "source": [
        "def analyze_list(numbers):\n",
        "  maximum_num = max(numbers)\n",
        "  minimum_num = min(numbers)\n",
        "  average_num = sum(numbers) / len(numbers)\n",
        "  return maximum_num, minimum_num, average_num\n",
        "numbers = [2,6,12] #assigning numbers\n",
        "maximum_num, minimum_num, average_num = analyze_list(numbers)\n",
        "print('The maximum number:',maximum_num)\n",
        "print('The minimum number:',minimum_num)\n",
        "print('The average number:',average_num)\n"
      ]
    },
    {
      "cell_type": "markdown",
      "metadata": {
        "id": "2Rlr3MEgRYEq"
      },
      "source": [
        "Problem 3: Reverse a list without using built-in functions"
      ]
    },
    {
      "cell_type": "code",
      "execution_count": null,
      "metadata": {
        "colab": {
          "base_uri": "https://localhost:8080/"
        },
        "id": "0ULyqJCwWFKD",
        "outputId": "e72e30af-de0e-4719-b681-5d0c02323f7a"
      },
      "outputs": [
        {
          "name": "stdout",
          "output_type": "stream",
          "text": [
            "[5, 6, 0, 8]\n"
          ]
        }
      ],
      "source": [
        "def reverse_list(list):\n",
        "  reversed_list=[]\n",
        "  for i in range(len(list)-1,-1,-1):\n",
        "    \"\"\" Len(list)-1:last number on the list\n",
        "        -1: stops just before the index 0\n",
        "        -1:loops in reverse order\"\"\"\n",
        "    reversed_list.append(list[i]) #adds each element to the list\n",
        "  return reversed_list\n",
        "list=[8,0,6,5]\n",
        "reversed_list=reverse_list(list)\n",
        "print(reversed_list)"
      ]
    },
    {
      "cell_type": "markdown",
      "metadata": {
        "id": "UY12OnTla_zX"
      },
      "source": [
        "Problem 4: A program that counts vowels and consonants in a sentence"
      ]
    },
    {
      "cell_type": "code",
      "execution_count": null,
      "metadata": {
        "colab": {
          "base_uri": "https://localhost:8080/"
        },
        "id": "Fxe-hdqrav0S",
        "outputId": "c4424948-578f-457d-d2a4-59ee4072735d"
      },
      "outputs": [
        {
          "name": "stdout",
          "output_type": "stream",
          "text": [
            "Enter a sentence: Amina is quite smart and beautiful\n",
            "This sentence has: 14 vowel(s) and 15 consonant(s)\n",
            "Number of vowels: 14\n",
            "Number of consonants: 15\n"
          ]
        }
      ],
      "source": [
        "def vowels_and_consonant_count(sentence):\n",
        "  vowels=\"AEIOUaeiou\"\n",
        "  vowel_count= 0\n",
        "  consonant_count = 0\n",
        "  for char in sentence:\n",
        "    if char in vowels:\n",
        "      vowel_count += 1\n",
        "    elif char.isalpha():\n",
        "      consonant_count += 1\n",
        "  return vowel_count, consonant_count\n",
        "Sentence = input(\"Enter a sentence: \")\n",
        "vowel_count, consonant_count = vowels_and_consonant_count(Sentence)\n",
        "print(\"This sentence has:\",vowel_count,\"vowel(s)\",\"and\", consonant_count,\"consonant(s)\")\n",
        "print(\"Number of vowels:\", vowel_count)\n",
        "print(\"Number of consonants:\", consonant_count)"
      ]
    },
    {
      "cell_type": "markdown",
      "metadata": {
        "id": "GZtC6uqNnhr_"
      },
      "source": [
        "Problem 5: creating a dictionary of students and marks then print student with high mark"
      ]
    },
    {
      "cell_type": "code",
      "execution_count": 31,
      "metadata": {
        "colab": {
          "base_uri": "https://localhost:8080/"
        },
        "id": "Dfch8NA6ja1w",
        "outputId": "a6205575-4b59-490b-dae4-f6de39ab9c69"
      },
      "outputs": [
        {
          "output_type": "stream",
          "name": "stdout",
          "text": [
            "Amina : 60\n",
            "Joseph : 80\n",
            "Kabir : 48\n",
            "The student with the highest mark is: Joseph with 80\n",
            "The average mark is: 62.67\n"
          ]
        }
      ],
      "source": [
        "def students_and_their_marks(**kwargs):\n",
        "  \"\"\"Prints the names and marks of students from keyword arguments.\"\"\"\n",
        "  for student, mark in kwargs.items():\n",
        "    print(student, \":\", mark)\n",
        "  highest_mark_student = max(kwargs, key=kwargs.get)\n",
        "  highest_mark = max(kwargs.values())\n",
        "  average_mark = sum(kwargs.values()) / len(kwargs)\n",
        "  average_mark = round(average_mark, 2)\n",
        "  return highest_mark_student, highest_mark, average_mark\n",
        "\n",
        "list={\"Amina\":60,\"Joseph\":80,\"Kabir\":48}\n",
        "student,mark,average= students_and_their_marks(**list)\n",
        "\n",
        "print(\"The student with the highest mark is:\", student,\"with\",mark)\n",
        "print(\"The average mark is:\", average)"
      ]
    },
    {
      "cell_type": "code",
      "execution_count": null,
      "metadata": {
        "id": "ucfztQzuqGZg"
      },
      "outputs": [],
      "source": []
    }
  ],
  "metadata": {
    "colab": {
      "provenance": [],
      "authorship_tag": "ABX9TyOte9pxFH/2eJ0L1zXIos58",
      "include_colab_link": true
    },
    "kernelspec": {
      "display_name": "Python 3",
      "name": "python3"
    },
    "language_info": {
      "name": "python"
    }
  },
  "nbformat": 4,
  "nbformat_minor": 0
}