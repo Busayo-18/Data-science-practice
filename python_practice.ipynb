{
  "nbformat": 4,
  "nbformat_minor": 0,
  "metadata": {
    "colab": {
      "provenance": [],
      "authorship_tag": "ABX9TyMmi9MTOD6UKnG25mKummo4",
      "include_colab_link": true
    },
    "kernelspec": {
      "name": "python3",
      "display_name": "Python 3"
    },
    "language_info": {
      "name": "python"
    }
  },
  "cells": [
    {
      "cell_type": "markdown",
      "metadata": {
        "id": "view-in-github",
        "colab_type": "text"
      },
      "source": [
        "<a href=\"https://colab.research.google.com/github/Busayo-18/Data-science-practice/blob/main/python_practice.ipynb\" target=\"_parent\"><img src=\"https://colab.research.google.com/assets/colab-badge.svg\" alt=\"Open In Colab\"/></a>"
      ]
    },
    {
      "cell_type": "markdown",
      "source": [
        "Problem 1: A python program checking if a number is prime"
      ],
      "metadata": {
        "id": "pMXVHPH5HtZF"
      }
    },
    {
      "cell_type": "code",
      "execution_count": 15,
      "metadata": {
        "id": "ZZ9DpnxgHC3k",
        "colab": {
          "base_uri": "https://localhost:8080/"
        },
        "outputId": "dd9972b4-4d75-4a99-e8b0-4b052610b67d"
      },
      "outputs": [
        {
          "output_type": "stream",
          "name": "stdout",
          "text": [
            "Enter a number: 89\n",
            "89 is a prime number\n"
          ]
        }
      ],
      "source": [
        "x= int(input(\"Enter a number: \"))\n",
        "if x<2: #prime numbers must have two divisors hence why it start from 2 upwards\n",
        "  is_prime = True\n",
        "elif x>2:\n",
        "  for i in range(2,int(x**0.5)+1): #iterates across a range from 2 to its square root, +1 includes the last number in the range\n",
        "    if x % i == 0: #the remainder\n",
        "      is_prime = False\n",
        "      break #stops the iteration if false\n",
        "    else:\n",
        "      is_prime = True\n",
        "      break\n",
        "\n",
        "if is_prime:\n",
        "  print(x ,\"is a prime number\")\n",
        "else:\n",
        "  print(x, \"is not a prime number\")\n",
        "\n",
        "\n"
      ]
    },
    {
      "cell_type": "markdown",
      "source": [
        "Problem 2: creating a function that takes list of numbers and returns the maximum, minimum and average"
      ],
      "metadata": {
        "id": "dNW-huCYUBzu"
      }
    },
    {
      "cell_type": "code",
      "source": [
        "def analyze_list(numbers):\n",
        "  maximum_num = max(numbers)\n",
        "  minimum_num = min(numbers)\n",
        "  average_num = sum(numbers) / len(numbers)\n",
        "  return maximum_num, minimum_num, average_num\n",
        "numbers = [2,6,12] #assigning numbers\n",
        "maximum_num, minimum_num, average_num = analyze_list(numbers)\n",
        "print('The maximum number:',maximum_num)\n",
        "print('The minimum number:',minimum_num)\n",
        "print('The average number:',average_num)\n"
      ],
      "metadata": {
        "colab": {
          "base_uri": "https://localhost:8080/"
        },
        "id": "A5eUv8imNWtR",
        "outputId": "942261fb-dd48-4d7d-8cfb-9e57888ca03a"
      },
      "execution_count": 16,
      "outputs": [
        {
          "output_type": "stream",
          "name": "stdout",
          "text": [
            "The maximum number: 12\n",
            "The minimum number: 2\n",
            "The average number: 6.666666666666667\n"
          ]
        }
      ]
    },
    {
      "cell_type": "markdown",
      "source": [
        "Problem 3: Reverse a list without using built-in functions"
      ],
      "metadata": {
        "id": "2Rlr3MEgRYEq"
      }
    },
    {
      "cell_type": "code",
      "source": [
        "def reverse_list(list):\n",
        "  reversed_list=[]\n",
        "  for i in range(len(list)-1,-1,-1):\n",
        "    \"\"\" Len(list)-1:last number on the list\n",
        "        -1: stops just before the index 0\n",
        "        -1:loops in reverse order\"\"\"\n",
        "    reversed_list.append(list[i]) #adds each element to the list\n",
        "  return reversed_list\n",
        "list=[8,0,6,5]\n",
        "reversed_list=reverse_list(list)\n",
        "print(reversed_list)"
      ],
      "metadata": {
        "colab": {
          "base_uri": "https://localhost:8080/"
        },
        "id": "0ULyqJCwWFKD",
        "outputId": "e72e30af-de0e-4719-b681-5d0c02323f7a"
      },
      "execution_count": 23,
      "outputs": [
        {
          "output_type": "stream",
          "name": "stdout",
          "text": [
            "[5, 6, 0, 8]\n"
          ]
        }
      ]
    },
    {
      "cell_type": "markdown",
      "source": [
        "Problem 4: A program that counts vowels and consonants in a sentence"
      ],
      "metadata": {
        "id": "UY12OnTla_zX"
      }
    },
    {
      "cell_type": "code",
      "source": [
        "def vowels_and_consonant_count(sentence):\n",
        "  vowels=\"AEIOUaeiou\"\n",
        "  vowel_count= 0\n",
        "  consonant_count = 0\n",
        "  for char in sentence:\n",
        "    if char in vowels:\n",
        "      vowel_count += 1\n",
        "    elif char.isalpha():\n",
        "      consonant_count += 1\n",
        "  return vowel_count, consonant_count\n",
        "Sentence = input(\"Enter a sentence: \")\n",
        "vowel_count, consonant_count = vowels_and_consonant_count(Sentence)\n",
        "print(\"This sentence has:\",vowel_count,\"vowel(s)\",\"and\", consonant_count,\"consonant(s)\")\n",
        "print(\"Number of vowels:\", vowel_count)\n",
        "print(\"Number of consonants:\", consonant_count)"
      ],
      "metadata": {
        "colab": {
          "base_uri": "https://localhost:8080/"
        },
        "id": "Fxe-hdqrav0S",
        "outputId": "c4424948-578f-457d-d2a4-59ee4072735d"
      },
      "execution_count": 30,
      "outputs": [
        {
          "output_type": "stream",
          "name": "stdout",
          "text": [
            "Enter a sentence: Amina is quite smart and beautiful\n",
            "This sentence has: 14 vowel(s) and 15 consonant(s)\n",
            "Number of vowels: 14\n",
            "Number of consonants: 15\n"
          ]
        }
      ]
    },
    {
      "cell_type": "code",
      "source": [],
      "metadata": {
        "id": "Dfch8NA6ja1w"
      },
      "execution_count": 30,
      "outputs": []
    }
  ]
}